{
  "nbformat": 4,
  "nbformat_minor": 0,
  "metadata": {
    "colab": {
      "name": "InvasaoAlien.ipynb",
      "provenance": [],
      "authorship_tag": "ABX9TyN5kqQSh8X596O16Hf00qYt",
      "include_colab_link": true
    },
    "kernelspec": {
      "name": "python3",
      "display_name": "Python 3"
    },
    "language_info": {
      "name": "python"
    }
  },
  "cells": [
    {
      "cell_type": "markdown",
      "metadata": {
        "id": "view-in-github",
        "colab_type": "text"
      },
      "source": [
        "<a href=\"https://colab.research.google.com/github/andercreep1001/invasaoAlien/blob/main/InvasaoAlien.ipynb\" target=\"_parent\"><img src=\"https://colab.research.google.com/assets/colab-badge.svg\" alt=\"Open In Colab\"/></a>"
      ]
    },
    {
      "cell_type": "markdown",
      "metadata": {
        "id": "qwhsvt-o1gPI"
      },
      "source": [
        "## ***Jogo Invasão Alien***"
      ]
    },
    {
      "cell_type": "code",
      "metadata": {
        "colab": {
          "base_uri": "https://localhost:8080/"
        },
        "id": "2VAnqd_-1oGn",
        "outputId": "3d1aca05-a418-4892-9dcb-4291887553b5"
      },
      "source": [
        "!pip install pygame\n"
      ],
      "execution_count": 3,
      "outputs": [
        {
          "output_type": "stream",
          "text": [
            "Collecting pygame\n",
            "\u001b[?25l  Downloading https://files.pythonhosted.org/packages/4b/9e/c400554dd1d0e562bd4379f35ad5023c68fc120003a58991405850f56f95/pygame-2.0.1-cp37-cp37m-manylinux1_x86_64.whl (11.8MB)\n",
            "\u001b[K     |████████████████████████████████| 11.8MB 340kB/s \n",
            "\u001b[?25hInstalling collected packages: pygame\n",
            "Successfully installed pygame-2.0.1\n"
          ],
          "name": "stdout"
        }
      ]
    },
    {
      "cell_type": "code",
      "metadata": {
        "colab": {
          "base_uri": "https://localhost:8080/"
        },
        "id": "z13arTTs2gZ-",
        "outputId": "b95bc8b3-4a28-4869-a3b4-b1a8e8829c10"
      },
      "source": [
        "import pygame"
      ],
      "execution_count": 4,
      "outputs": [
        {
          "output_type": "stream",
          "text": [
            "pygame 2.0.1 (SDL 2.0.14, Python 3.7.10)\n",
            "Hello from the pygame community. https://www.pygame.org/contribute.html\n"
          ],
          "name": "stdout"
        }
      ]
    },
    {
      "cell_type": "code",
      "metadata": {
        "id": "Yu5BBoTz2mJ1"
      },
      "source": [
        "import sys"
      ],
      "execution_count": 5,
      "outputs": []
    },
    {
      "cell_type": "markdown",
      "metadata": {
        "id": "qWN9ANtm2t4E"
      },
      "source": [
        "Classe Alien invasor"
      ]
    },
    {
      "cell_type": "code",
      "metadata": {
        "id": "NaqRFI-E2xMC"
      },
      "source": [
        "class AlienInvasaor:\n",
        "\n",
        "  def __init__(self):\n",
        "    \"\"\"Inicializa o joga e cria recursos\"\"\"\n",
        "    pygame.init()\n",
        "\n",
        "    self.screen = pygame.display.set_mode((1200,800))\n",
        "    pygame.display.set_caption('Alien Invasor')\n",
        "\n",
        "  def jogo_correndo(self):\n",
        "    \"\"\"Começa o jogo\"\"\"\n",
        "    while True:\n",
        "      for evento in pygame.event.get():\n",
        "        if evento.type == pygame.QUIT:\n",
        "          sys.exit()  \n",
        "      pygame.display.flip()\n",
        "\n",
        "#----------------------------------------------\n",
        "if __name__ == '__main__':\n",
        "  ai = AlienInvasaor()\n",
        "  ai.jogo_correndo()      "
      ],
      "execution_count": null,
      "outputs": []
    }
  ]
}